{
 "cells": [
  {
   "cell_type": "markdown",
   "id": "fad89467-dce5-42a8-965b-e9a98eb79613",
   "metadata": {},
   "source": [
    "# Preprocessing & Train/Val/Test Split\n",
    "\n",
    "This notebook:\n",
    "1. Loads the raw dataset\n",
    "2. Applies basic cleaning (if needed)\n",
    "3. Creates reproducible **train/val/test** splits (70/15/15 stratified)\n",
    "4. Saves processed splits to `data/processed/`\n",
    "5. Saves row indices to `splits/` for reproducibility\n"
   ]
  },
  {
   "cell_type": "code",
   "execution_count": 4,
   "id": "d2406204-d641-47a7-b29e-467ef3ea93df",
   "metadata": {},
   "outputs": [],
   "source": [
    "# 📌 1. Imports\n",
    "import pandas as pd\n",
    "from sklearn.model_selection import train_test_split\n",
    "from pathlib import Path\n",
    "\n",
    "\n",
    "Path(\"../data/processed\").mkdir(parents=True, exist_ok=True)\n",
    "Path(\"../splits\").mkdir(parents=True, exist_ok=True)\n"
   ]
  },
  {
   "cell_type": "code",
   "execution_count": 5,
   "id": "a86f5809-61a3-435c-a138-cca6b32fccbf",
   "metadata": {},
   "outputs": [
    {
     "name": "stdout",
     "output_type": "stream",
     "text": [
      "Shape: (319, 39)\n"
     ]
    },
    {
     "data": {
      "text/html": [
       "<div>\n",
       "<style scoped>\n",
       "    .dataframe tbody tr th:only-of-type {\n",
       "        vertical-align: middle;\n",
       "    }\n",
       "\n",
       "    .dataframe tbody tr th {\n",
       "        vertical-align: top;\n",
       "    }\n",
       "\n",
       "    .dataframe thead th {\n",
       "        text-align: right;\n",
       "    }\n",
       "</style>\n",
       "<table border=\"1\" class=\"dataframe\">\n",
       "  <thead>\n",
       "    <tr style=\"text-align: right;\">\n",
       "      <th></th>\n",
       "      <th>Gallstone Status</th>\n",
       "      <th>Age</th>\n",
       "      <th>Gender</th>\n",
       "      <th>Comorbidity</th>\n",
       "      <th>Coronary Artery Disease (CAD)</th>\n",
       "      <th>Hypothyroidism</th>\n",
       "      <th>Hyperlipidemia</th>\n",
       "      <th>Diabetes Mellitus (DM)</th>\n",
       "      <th>Height</th>\n",
       "      <th>Weight</th>\n",
       "      <th>...</th>\n",
       "      <th>High Density Lipoprotein (HDL)</th>\n",
       "      <th>Triglyceride</th>\n",
       "      <th>Aspartat Aminotransferaz (AST)</th>\n",
       "      <th>Alanin Aminotransferaz (ALT)</th>\n",
       "      <th>Alkaline Phosphatase (ALP)</th>\n",
       "      <th>Creatinine</th>\n",
       "      <th>Glomerular Filtration Rate (GFR)</th>\n",
       "      <th>C-Reactive Protein (CRP)</th>\n",
       "      <th>Hemoglobin (HGB)</th>\n",
       "      <th>Vitamin D</th>\n",
       "    </tr>\n",
       "  </thead>\n",
       "  <tbody>\n",
       "    <tr>\n",
       "      <th>0</th>\n",
       "      <td>0</td>\n",
       "      <td>50</td>\n",
       "      <td>0</td>\n",
       "      <td>0</td>\n",
       "      <td>0</td>\n",
       "      <td>0</td>\n",
       "      <td>0</td>\n",
       "      <td>0</td>\n",
       "      <td>185</td>\n",
       "      <td>92.8</td>\n",
       "      <td>...</td>\n",
       "      <td>40.0</td>\n",
       "      <td>134.0</td>\n",
       "      <td>20.0</td>\n",
       "      <td>22.0</td>\n",
       "      <td>87.0</td>\n",
       "      <td>0.82</td>\n",
       "      <td>112.47</td>\n",
       "      <td>0.0</td>\n",
       "      <td>16.0</td>\n",
       "      <td>33.0</td>\n",
       "    </tr>\n",
       "    <tr>\n",
       "      <th>1</th>\n",
       "      <td>0</td>\n",
       "      <td>47</td>\n",
       "      <td>0</td>\n",
       "      <td>1</td>\n",
       "      <td>0</td>\n",
       "      <td>0</td>\n",
       "      <td>0</td>\n",
       "      <td>0</td>\n",
       "      <td>176</td>\n",
       "      <td>94.5</td>\n",
       "      <td>...</td>\n",
       "      <td>43.0</td>\n",
       "      <td>103.0</td>\n",
       "      <td>14.0</td>\n",
       "      <td>13.0</td>\n",
       "      <td>46.0</td>\n",
       "      <td>0.87</td>\n",
       "      <td>107.10</td>\n",
       "      <td>0.0</td>\n",
       "      <td>14.4</td>\n",
       "      <td>25.0</td>\n",
       "    </tr>\n",
       "    <tr>\n",
       "      <th>2</th>\n",
       "      <td>0</td>\n",
       "      <td>61</td>\n",
       "      <td>0</td>\n",
       "      <td>0</td>\n",
       "      <td>0</td>\n",
       "      <td>0</td>\n",
       "      <td>0</td>\n",
       "      <td>0</td>\n",
       "      <td>171</td>\n",
       "      <td>91.1</td>\n",
       "      <td>...</td>\n",
       "      <td>43.0</td>\n",
       "      <td>69.0</td>\n",
       "      <td>18.0</td>\n",
       "      <td>14.0</td>\n",
       "      <td>66.0</td>\n",
       "      <td>1.25</td>\n",
       "      <td>65.51</td>\n",
       "      <td>0.0</td>\n",
       "      <td>16.2</td>\n",
       "      <td>30.2</td>\n",
       "    </tr>\n",
       "    <tr>\n",
       "      <th>3</th>\n",
       "      <td>0</td>\n",
       "      <td>41</td>\n",
       "      <td>0</td>\n",
       "      <td>0</td>\n",
       "      <td>0</td>\n",
       "      <td>0</td>\n",
       "      <td>0</td>\n",
       "      <td>0</td>\n",
       "      <td>168</td>\n",
       "      <td>67.7</td>\n",
       "      <td>...</td>\n",
       "      <td>59.0</td>\n",
       "      <td>53.0</td>\n",
       "      <td>20.0</td>\n",
       "      <td>12.0</td>\n",
       "      <td>34.0</td>\n",
       "      <td>1.02</td>\n",
       "      <td>94.10</td>\n",
       "      <td>0.0</td>\n",
       "      <td>15.4</td>\n",
       "      <td>35.4</td>\n",
       "    </tr>\n",
       "    <tr>\n",
       "      <th>4</th>\n",
       "      <td>0</td>\n",
       "      <td>42</td>\n",
       "      <td>0</td>\n",
       "      <td>0</td>\n",
       "      <td>0</td>\n",
       "      <td>0</td>\n",
       "      <td>0</td>\n",
       "      <td>0</td>\n",
       "      <td>178</td>\n",
       "      <td>89.6</td>\n",
       "      <td>...</td>\n",
       "      <td>30.0</td>\n",
       "      <td>326.0</td>\n",
       "      <td>27.0</td>\n",
       "      <td>54.0</td>\n",
       "      <td>71.0</td>\n",
       "      <td>0.82</td>\n",
       "      <td>112.47</td>\n",
       "      <td>0.0</td>\n",
       "      <td>16.8</td>\n",
       "      <td>40.6</td>\n",
       "    </tr>\n",
       "  </tbody>\n",
       "</table>\n",
       "<p>5 rows × 39 columns</p>\n",
       "</div>"
      ],
      "text/plain": [
       "   Gallstone Status  Age  Gender  Comorbidity  Coronary Artery Disease (CAD)  \\\n",
       "0                 0   50       0            0                              0   \n",
       "1                 0   47       0            1                              0   \n",
       "2                 0   61       0            0                              0   \n",
       "3                 0   41       0            0                              0   \n",
       "4                 0   42       0            0                              0   \n",
       "\n",
       "   Hypothyroidism  Hyperlipidemia  Diabetes Mellitus (DM)  Height  Weight  \\\n",
       "0               0               0                       0     185    92.8   \n",
       "1               0               0                       0     176    94.5   \n",
       "2               0               0                       0     171    91.1   \n",
       "3               0               0                       0     168    67.7   \n",
       "4               0               0                       0     178    89.6   \n",
       "\n",
       "   ...  High Density Lipoprotein (HDL)  Triglyceride  \\\n",
       "0  ...                            40.0         134.0   \n",
       "1  ...                            43.0         103.0   \n",
       "2  ...                            43.0          69.0   \n",
       "3  ...                            59.0          53.0   \n",
       "4  ...                            30.0         326.0   \n",
       "\n",
       "   Aspartat Aminotransferaz (AST)  Alanin Aminotransferaz (ALT)  \\\n",
       "0                            20.0                          22.0   \n",
       "1                            14.0                          13.0   \n",
       "2                            18.0                          14.0   \n",
       "3                            20.0                          12.0   \n",
       "4                            27.0                          54.0   \n",
       "\n",
       "   Alkaline Phosphatase (ALP)  Creatinine  Glomerular Filtration Rate (GFR)  \\\n",
       "0                        87.0        0.82                            112.47   \n",
       "1                        46.0        0.87                            107.10   \n",
       "2                        66.0        1.25                             65.51   \n",
       "3                        34.0        1.02                             94.10   \n",
       "4                        71.0        0.82                            112.47   \n",
       "\n",
       "   C-Reactive Protein (CRP)  Hemoglobin (HGB)  Vitamin D  \n",
       "0                       0.0              16.0       33.0  \n",
       "1                       0.0              14.4       25.0  \n",
       "2                       0.0              16.2       30.2  \n",
       "3                       0.0              15.4       35.4  \n",
       "4                       0.0              16.8       40.6  \n",
       "\n",
       "[5 rows x 39 columns]"
      ]
     },
     "execution_count": 5,
     "metadata": {},
     "output_type": "execute_result"
    }
   ],
   "source": [
    "# 📌 2. Load Raw Dataset\n",
    "df = pd.read_csv(\"./data/raw/dataset-uci.csv\")\n",
    "\n",
    "print(\"Shape:\", df.shape)\n",
    "df.head()\n"
   ]
  },
  {
   "cell_type": "code",
   "execution_count": 6,
   "id": "c8f57ed9-7503-4bf4-b0a8-31221ef25cab",
   "metadata": {},
   "outputs": [
    {
     "data": {
      "text/plain": [
       "Gallstone Status\n",
       "0    50.5\n",
       "1    49.5\n",
       "Name: proportion, dtype: float64"
      ]
     },
     "execution_count": 6,
     "metadata": {},
     "output_type": "execute_result"
    }
   ],
   "source": [
    "# 📌 3. Define Target Column\n",
    "TARGET = \"Gallstone Status\"\n",
    "\n",
    "df[TARGET].value_counts(normalize=True).mul(100).round(1)\n"
   ]
  },
  {
   "cell_type": "code",
   "execution_count": 7,
   "id": "327a7844-de73-429d-afa9-86e7e6545b4f",
   "metadata": {},
   "outputs": [
    {
     "name": "stdout",
     "output_type": "stream",
     "text": [
      "Train: (223, 39) Val: (48, 39) Test: (48, 39)\n"
     ]
    }
   ],
   "source": [
    "# 📌 4. Create Splits (70/15/15 stratified)\n",
    "\n",
    "# Train vs temp (val+test)\n",
    "train_df, temp_df = train_test_split(\n",
    "    df,\n",
    "    test_size=0.30,\n",
    "    stratify=df[TARGET],\n",
    "    random_state=42\n",
    ")\n",
    "\n",
    "# Val vs test\n",
    "val_df, test_df = train_test_split(\n",
    "    temp_df,\n",
    "    test_size=0.50,\n",
    "    stratify=temp_df[TARGET],\n",
    "    random_state=42\n",
    ")\n",
    "\n",
    "print(\"Train:\", train_df.shape, \"Val:\", val_df.shape, \"Test:\", test_df.shape)\n"
   ]
  },
  {
   "cell_type": "code",
   "execution_count": 8,
   "id": "a3fff6e4-07e9-43b6-8b51-3c4ab908d813",
   "metadata": {},
   "outputs": [
    {
     "name": "stdout",
     "output_type": "stream",
     "text": [
      "✅ CSVs saved to data/processed/\n"
     ]
    }
   ],
   "source": [
    "# 📌 5. Save Full Splits as CSVs\n",
    "train_df.to_csv(\"../data/processed/train.csv\", index=False)\n",
    "val_df.to_csv(\"../data/processed/val.csv\", index=False)\n",
    "test_df.to_csv(\"../data/processed/test.csv\", index=False)\n",
    "\n",
    "print(\"✅ CSVs saved to data/processed/\")\n"
   ]
  },
  {
   "cell_type": "code",
   "execution_count": 9,
   "id": "a003dc37-350f-4dfc-b9db-c5e63a04bcb3",
   "metadata": {},
   "outputs": [
    {
     "name": "stdout",
     "output_type": "stream",
     "text": [
      "✅ Indices saved to splits/\n"
     ]
    }
   ],
   "source": [
    "# 📌 6. Saving Indices Only (for reproducibility)\n",
    "pd.Series(train_df.index).to_csv(\"../splits/train_idx.csv\", index=False, header=False)\n",
    "pd.Series(val_df.index).to_csv(\"../splits/val_idx.csv\", index=False, header=False)\n",
    "pd.Series(test_df.index).to_csv(\"../splits/test_idx.csv\", index=False, header=False)\n",
    "\n",
    "print(\"✅ Indices saved to splits/\")\n"
   ]
  },
  {
   "cell_type": "code",
   "execution_count": 10,
   "id": "8745b5a4-e2b8-43ef-bbe1-4f5bdca639c8",
   "metadata": {},
   "outputs": [
    {
     "name": "stdout",
     "output_type": "stream",
     "text": [
      "Train balance:\n",
      "Gallstone Status\n",
      "0    50.7\n",
      "1    49.3\n",
      "Name: proportion, dtype: float64\n",
      "\n",
      "Validation balance:\n",
      "Gallstone Status\n",
      "0    50.0\n",
      "1    50.0\n",
      "Name: proportion, dtype: float64\n",
      "\n",
      "Test balance:\n",
      "Gallstone Status\n",
      "1    50.0\n",
      "0    50.0\n",
      "Name: proportion, dtype: float64\n"
     ]
    }
   ],
   "source": [
    "# 📌 7. Verify Class Balance\n",
    "print(\"Train balance:\")\n",
    "print(train_df[TARGET].value_counts(normalize=True).mul(100).round(1))\n",
    "\n",
    "print(\"\\nValidation balance:\")\n",
    "print(val_df[TARGET].value_counts(normalize=True).mul(100).round(1))\n",
    "\n",
    "print(\"\\nTest balance:\")\n",
    "print(test_df[TARGET].value_counts(normalize=True).mul(100).round(1))\n"
   ]
  },
  {
   "cell_type": "code",
   "execution_count": 11,
   "id": "cc07146a-b033-4563-9889-aea56a958c80",
   "metadata": {},
   "outputs": [],
   "source": [
    "import json\n",
    "\n",
    "feature_means = df.mean(numeric_only=True).to_dict()\n",
    "\n",
    "with open(\"models/feature_means.json\", \"w\") as f:\n",
    "    json.dump(feature_means, f)\n"
   ]
  },
  {
   "cell_type": "code",
   "execution_count": null,
   "id": "dc169fe6-f468-4f1e-9fb7-f1a350ddc60e",
   "metadata": {},
   "outputs": [],
   "source": []
  }
 ],
 "metadata": {
  "kernelspec": {
   "display_name": "Python [conda env:base] *",
   "language": "python",
   "name": "conda-base-py"
  },
  "language_info": {
   "codemirror_mode": {
    "name": "ipython",
    "version": 3
   },
   "file_extension": ".py",
   "mimetype": "text/x-python",
   "name": "python",
   "nbconvert_exporter": "python",
   "pygments_lexer": "ipython3",
   "version": "3.12.7"
  }
 },
 "nbformat": 4,
 "nbformat_minor": 5
}
